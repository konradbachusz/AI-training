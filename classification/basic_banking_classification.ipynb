{
 "cells": [
  {
   "cell_type": "code",
   "execution_count": null,
   "metadata": {},
   "outputs": [],
   "source": [
    "import pandas as pd\n",
    "from sklearn.model_selection import train_test_split\n",
    "from sklearn.linear_model import LogisticRegression\n",
    "from sklearn.metrics import accuracy_score, precision_score, recall_score, roc_auc_score, confusion_matrix\n",
    "from xgboost import XGBClassifier\n",
    "import pickle\n"
   ]
  },
  {
   "cell_type": "code",
   "execution_count": null,
   "metadata": {},
   "outputs": [],
   "source": [
    "# Load the dataset\n",
    "data = pd.read_csv('bank-full.csv', sep=';')"
   ]
  },
  {
   "cell_type": "code",
   "execution_count": null,
   "metadata": {},
   "outputs": [],
   "source": [
    "# Data preprocessing and feature engineering\n",
    "# Assuming 'y' is the target variable\n",
    "data['y'] = data['y'].map({'no': 0, 'yes': 1})\n"
   ]
  },
  {
   "cell_type": "code",
   "execution_count": null,
   "metadata": {},
   "outputs": [],
   "source": [
    "# Split the data into train and test\n",
    "X = data.drop('y', axis=1)\n",
    "y = data['y']\n",
    "X_train, X_test, y_train, y_test = train_test_split(X, y, test_size=0.2, random_state=42)\n",
    "\n",
    "# Train a logistic regression machine learning model\n",
    "lr = LogisticRegression()\n",
    "lr.fit(X_train, y_train)\n",
    "\n",
    "# Print accuracy, precision, recall and AUC of the model and show the confusion matrix\n",
    "y_pred_lr = lr.predict(X_test)\n",
    "print(\"Logistic Regression Metrics:\")\n",
    "print(\"Accuracy: \", accuracy_score(y_test, y_pred_lr))\n",
    "print(\"Precision: \", precision_score(y_test, y_pred_lr))\n",
    "print(\"Recall: \", recall_score(y_test, y_pred_lr))\n",
    "print(\"AUC: \", roc_auc_score(y_test, y_pred_lr))\n",
    "print(\"Confusion Matrix: \\n\", confusion_matrix(y_test, y_pred_lr))\n",
    "\n",
    "# Train a XGBoost machine learning model\n",
    "xgb = XGBClassifier(use_label_encoder=False, eval_metric='logloss')\n",
    "xgb.fit(X_train, y_train)\n",
    "\n",
    "# Print accuracy, precision, recall and AUC of the model and show the confusion matrix\n",
    "y_pred_xgb = xgb.predict(X_test)\n",
    "print(\"\\nXGBoost Metrics:\")\n",
    "print(\"Accuracy: \", accuracy_score(y_test, y_pred_xgb))\n",
    "print(\"Precision: \", precision_score(y_test, y_pred_xgb))\n",
    "print(\"Recall: \", recall_score(y_test, y_pred_xgb))\n",
    "print(\"AUC: \", roc_auc_score(y_test, y_pred_xgb))\n",
    "print(\"Confusion Matrix: \\n\", confusion_matrix(y_test, y_pred_xgb))\n",
    "\n",
    "# Save the final model to a pickle file\n",
    "pickle.dump(xgb, open(\"xgb_model.pkl\", \"wb\"))\n"
   ]
  }
 ],
 "metadata": {
  "language_info": {
   "name": "python"
  }
 },
 "nbformat": 4,
 "nbformat_minor": 2
}
